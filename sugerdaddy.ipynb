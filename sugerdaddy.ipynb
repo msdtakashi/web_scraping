{
 "cells": [
  {
   "cell_type": "code",
   "execution_count": 1,
   "metadata": {},
   "outputs": [],
   "source": [
    "from selenium import webdriver\n",
    "from selenium.webdriver.common.keys import Keys\n",
    "import pandas as pd\n",
    "import os\n",
    "pd.set_option(\"display.max_colwidth\", 500)\n",
    "import requests\n",
    "from bs4 import BeautifulSoup\n",
    "from time import sleep\n",
    "import random\n",
    "import datetime\n"
   ]
  },
  {
   "cell_type": "code",
   "execution_count": 2,
   "metadata": {},
   "outputs": [],
   "source": [
    "#画像のJs コード\n",
    "def save_binary(url, filepath):\n",
    "    js = \"\"\"\n",
    "    var getBinaryResourceText = function(url) {\n",
    "        var req = new XMLHttpRequest();\n",
    "        req.open('GET', url, false);\n",
    "        req.overrideMimeType('text/plain; charset=x-user-defined');\n",
    "        req.send(null);\n",
    "        if (req.status != 200) return '';\n",
    "\n",
    "        var filestream = req.responseText;\n",
    "        var bytes = [];\n",
    "        for (var i = 0; i < filestream.length; i++){\n",
    "            bytes[i] = filestream.charCodeAt(i) & 0xff;\n",
    "        }\n",
    "\n",
    "        return bytes;\n",
    "    }\n",
    "    \"\"\"\n",
    "    js += \"return getBinaryResourceText(\\\"{url}\\\");\".format(url=url)\n",
    "\n",
    "    data_bytes = driver.execute_script(js)\n",
    "    with open(filepath, 'wb') as bin_out:\n",
    "        bin_out.write(bytes(data_bytes))\n",
    "\n",
    "\n",
    "capabilities = {\n",
    "    'chromeOptions': {\n",
    "        # 'androidPackage': 'com.android.chrome',\n",
    "    }\n",
    "}"
   ]
  },
  {
   "cell_type": "code",
   "execution_count": 3,
   "metadata": {},
   "outputs": [],
   "source": [
    "#　集計の関数\n",
    "def profile_data(user_html):\n",
    "    user_data = pd.DataFrame(columns=['userid', 'name', 'age_area','regist_date','reported',\n",
    "                                      'msg_cnt','write_board','profile','height','weight',\n",
    "                                      'work','drink','tobacco','marrege','types',\n",
    "                                      'access_date']\n",
    "                            )\n",
    "    userid = user_html.find('div',{'class':'Box01 profile'})['userid']\n",
    "    name= user_html.find('span',{'class':'font_lll font_red'}).text\n",
    "    age_area = user_html.find('ul',{'class':'situation'}).find('li').text\n",
    "    regist_date = user_html.find('ul',{'class':'statistics'}).find_all('li')[0].text\n",
    "    reported = user_html.find('ul',{'class':'statistics'}).find_all('li')[1].text\n",
    "\n",
    "    msg_cnt = user_html.find('ul',{'class':'statistics'}).find_all('li')[2].text.split(':')[1]\n",
    "    write_board = user_html.find('ul',{'class':'statistics'}).find_all('li')[3].text.split(':')[1]\n",
    "    profile = user_html.find('div',{'class':'BoxGray'}).text\n",
    "    height = user_html.find('div',{'class':'table03'}).find_all('dd')[0].text\n",
    "    weight = user_html.find('div',{'class':'table03'}).find_all('dd')[1].text\n",
    "    \n",
    "    work = user_html.find('div',{'class':'table03'}).find_all('dd')[2].text\n",
    "    drink = user_html.find('div',{'class':'table03'}).find_all('dd')[3].text\n",
    "    tobacco = user_html.find('div',{'class':'table03'}).find_all('dd')[4].text\n",
    "    marrege = user_html.find('div',{'class':'table03'}).find_all('dd')[5].text\n",
    "    types = user_html.find('div',{'class':'table03'}).find_all('dd')[6].text\n",
    "    \n",
    "    access_date = datetime.date.today()\n",
    "    \n",
    "    series = pd.Series([userid, name, age_area,regist_date,reported,\n",
    "                        msg_cnt,write_board,profile,height,weight,\n",
    "                        work,drink,tobacco,marrege,types,\n",
    "                        access_date], \n",
    "                       index=user_data.columns\n",
    "                      )\n",
    "    \n",
    "    user_data = user_data.append(series,ignore_index = True)\n",
    "    return user_data"
   ]
  },
  {
   "cell_type": "code",
   "execution_count": null,
   "metadata": {},
   "outputs": [],
   "source": []
  },
  {
   "cell_type": "code",
   "execution_count": 4,
   "metadata": {},
   "outputs": [],
   "source": [
    "##今回はGoogleChromeを使用\n",
    "driver = webdriver.Chrome(\"C:\\webdriver\\chromedriver.exe\")\n",
    "id = \"taka.happy@me.com\"\n",
    "password = \"ssasdf1234[\"\n",
    "\n",
    "url = \"https://sugardaddy.jp/login\"\n",
    "driver.get(url)\n",
    "sleep(4)"
   ]
  },
  {
   "cell_type": "code",
   "execution_count": 5,
   "metadata": {},
   "outputs": [],
   "source": [
    "#ログイン\n",
    "driver.find_element_by_name(\"email\").send_keys(id)\n",
    "driver.find_element_by_name(\"pass\").send_keys(password)\n",
    "sleep(2)\n",
    "driver.find_element_by_class_name('btn_black').send_keys(Keys.ENTER)\n",
    "user_detail = pd.DataFrame(columns=['userid', 'name', 'age_area','regist_date','reported','msg_cnt',\n",
    "                               'write_board','profile','height','weight','work','drink','tobacco',\n",
    "                               'marrege','types','access_date']\n",
    "                          )"
   ]
  },
  {
   "cell_type": "code",
   "execution_count": 6,
   "metadata": {},
   "outputs": [],
   "source": [
    "user_data = pd.DataFrame(columns=['userid', 'name', 'age_area','regist_date','reported','msg_cnt',\n",
    "                               'write_board','profile','height','weight','work','drink','tobacco',\n",
    "                               'marrege','types','access_date']\n",
    "                     )"
   ]
  },
  {
   "cell_type": "code",
   "execution_count": 7,
   "metadata": {},
   "outputs": [],
   "source": [
    "###　繰り返し場所"
   ]
  },
  {
   "cell_type": "code",
   "execution_count": 8,
   "metadata": {},
   "outputs": [],
   "source": [
    "#　集計条件\n",
    "start_url = \"https://sugardaddy.jp/search\"\n",
    "driver.get(start_url)\n",
    "sleep(2)"
   ]
  },
  {
   "cell_type": "code",
   "execution_count": 9,
   "metadata": {},
   "outputs": [],
   "source": [
    "serch = BeautifulSoup(driver.page_source,\"html.parser\")\n",
    "list= serch.find_all('div',{'class':'BoxPhotoProfile BoxGray clearfix'})\n",
    "user_list = []\n",
    "for i in list:\n",
    "    url = \"https://sugardaddy.jp/profile?id=\" + i['userid']\n",
    "    user_list.append(url)"
   ]
  },
  {
   "cell_type": "code",
   "execution_count": 10,
   "metadata": {},
   "outputs": [
    {
     "name": "stdout",
     "output_type": "stream",
     "text": [
      "Wall time: 3min 46s\n"
     ]
    }
   ],
   "source": [
    "%%time\n",
    "user_page = []\n",
    "for i in user_list:\n",
    "    driver.get(i)\n",
    "    user_url = BeautifulSoup(driver.page_source,\"lxml\")\n",
    "    user_page.append(user_url)\n",
    "    user_detail = user_detail.append(profile_data(user_url))\n",
    "    userid = user_url.find('div',{'class':'Box01 profile'})['userid']\n",
    "    photos = user_url.find_all('img',{'class':'popup'})\n",
    "    n = 0\n",
    "    for j in photos:\n",
    "        try:\n",
    "            img_url = ('https://sugardaddy.jp' + j['src'])\n",
    "            file_name = '../img/' + str(userid) + '_image_' + str(n) + '.jpeg'\n",
    "            n += 1\n",
    "            save_binary(img_url, file_name)\n",
    "            sleep(0.3 + 3*random.random())        \n",
    "        except:\n",
    "            None\n",
    "\n",
    "    sleep(1 + 1*random.random())\n",
    "    driver.get(start_url)\n",
    "    sleep(1 + 3*random.random())"
   ]
  },
  {
   "cell_type": "code",
   "execution_count": null,
   "metadata": {},
   "outputs": [],
   "source": []
  },
  {
   "cell_type": "code",
   "execution_count": 11,
   "metadata": {},
   "outputs": [],
   "source": [
    "save_date = '../user_detail/' + datetime.datetime.now().strftime(\"%Y%m%d_%H%M\") + '.csv'\n",
    "user_detail.to_csv(save_date)"
   ]
  },
  {
   "cell_type": "code",
   "execution_count": 12,
   "metadata": {},
   "outputs": [
    {
     "data": {
      "text/plain": [
       "'C:\\\\Users\\\\Masuda Takashi\\\\python_code\\\\web_scraping'"
      ]
     },
     "execution_count": 12,
     "metadata": {},
     "output_type": "execute_result"
    }
   ],
   "source": [
    "path = os.getcwd()\n",
    "path"
   ]
  },
  {
   "cell_type": "code",
   "execution_count": null,
   "metadata": {},
   "outputs": [],
   "source": []
  },
  {
   "cell_type": "code",
   "execution_count": null,
   "metadata": {},
   "outputs": [],
   "source": []
  }
 ],
 "metadata": {
  "kernelspec": {
   "display_name": "Python 3",
   "language": "python",
   "name": "python3"
  },
  "language_info": {
   "codemirror_mode": {
    "name": "ipython",
    "version": 3
   },
   "file_extension": ".py",
   "mimetype": "text/x-python",
   "name": "python",
   "nbconvert_exporter": "python",
   "pygments_lexer": "ipython3",
   "version": "3.7.1"
  }
 },
 "nbformat": 4,
 "nbformat_minor": 2
}
