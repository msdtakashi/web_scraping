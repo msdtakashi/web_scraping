{
 "cells": [
  {
   "cell_type": "code",
   "execution_count": 19,
   "metadata": {},
   "outputs": [],
   "source": [
    "from selenium import webdriver\n",
    "from selenium.webdriver.common.keys import Keys\n",
    "import pandas as pd\n",
    "import requests\n",
    "from bs4 import BeautifulSoup\n",
    "from time import sleep\n",
    "import random"
   ]
  },
  {
   "cell_type": "code",
   "execution_count": 20,
   "metadata": {},
   "outputs": [],
   "source": [
    "##今回はGoogleChromeを使用\n",
    "driver = webdriver.Chrome(\"C:\\webdriver\\chromedriver.exe\")\n",
    "id = \"taka.happy@me.com\"\n",
    "password = \"ssasdf1234[\"\n",
    "\n",
    "url = \"https://sugardaddy.jp/login\"\n",
    "driver.get(url)\n",
    "sleep(4)"
   ]
  },
  {
   "cell_type": "code",
   "execution_count": 21,
   "metadata": {},
   "outputs": [],
   "source": [
    "#画像のJs コード\n",
    "def save_binary(url, filepath):\n",
    "    js = \"\"\"\n",
    "    var getBinaryResourceText = function(url) {\n",
    "        var req = new XMLHttpRequest();\n",
    "        req.open('GET', url, false);\n",
    "        req.overrideMimeType('text/plain; charset=x-user-defined');\n",
    "        req.send(null);\n",
    "        if (req.status != 200) return '';\n",
    "\n",
    "        var filestream = req.responseText;\n",
    "        var bytes = [];\n",
    "        for (var i = 0; i < filestream.length; i++){\n",
    "            bytes[i] = filestream.charCodeAt(i) & 0xff;\n",
    "        }\n",
    "\n",
    "        return bytes;\n",
    "    }\n",
    "    \"\"\"\n",
    "    js += \"return getBinaryResourceText(\\\"{url}\\\");\".format(url=url)\n",
    "\n",
    "    data_bytes = driver.execute_script(js)\n",
    "    with open(filepath, 'wb') as bin_out:\n",
    "        bin_out.write(bytes(data_bytes))\n",
    "\n",
    "\n",
    "capabilities = {\n",
    "    'chromeOptions': {\n",
    "        # 'androidPackage': 'com.android.chrome',\n",
    "    }\n",
    "}"
   ]
  },
  {
   "cell_type": "code",
   "execution_count": 22,
   "metadata": {},
   "outputs": [],
   "source": [
    "#ログイン\n",
    "driver.find_element_by_name(\"email\").send_keys(id)\n",
    "driver.find_element_by_name(\"pass\").send_keys(password)\n",
    "sleep(2)\n",
    "driver.find_element_by_class_name('btn_black').send_keys(Keys.ENTER)"
   ]
  },
  {
   "cell_type": "code",
   "execution_count": 23,
   "metadata": {},
   "outputs": [],
   "source": [
    "start_url = \"https://sugardaddy.jp/search\"\n",
    "driver.get(start_url)\n",
    "sleep(2)"
   ]
  },
  {
   "cell_type": "code",
   "execution_count": 24,
   "metadata": {},
   "outputs": [],
   "source": [
    "serch = BeautifulSoup(driver.page_source,\"html.parser\")\n",
    "list= serch.find_all('div',{'class':'BoxPhotoProfile BoxGray clearfix'})\n",
    "user_list = []\n",
    "for i in list:\n",
    "    url = \"https://sugardaddy.jp/profile?id=\" + i['userid']\n",
    "    user_list.append(url)"
   ]
  },
  {
   "cell_type": "code",
   "execution_count": 25,
   "metadata": {},
   "outputs": [],
   "source": [
    "user_page = []\n",
    "for i in user_list:\n",
    "    driver.get(i)\n",
    "    user_url = BeautifulSoup(driver.page_source,\"lxml\")\n",
    "    user_page.append(user_url)\n",
    "    userid = user_url.find('div',{'class':'Box01 profile'})['userid']\n",
    "    photos = user_url.find_all('img',{'class':'popup'})\n",
    "    n = 0\n",
    "    for j in photos:\n",
    "        try:\n",
    "            img_url = ('https://sugardaddy.jp' + j['src'])\n",
    "            file_name = 'img/' + str(userid) + '_image_' + str(n) + '.jpeg'\n",
    "            n += 1\n",
    "            save_binary(img_url, file_name)\n",
    "            sleep(0.5 + 3*random.random())        \n",
    "        except:\n",
    "            None\n",
    "\n",
    "    sleep(3 + 1*random.random())\n",
    "    \n",
    "    driver.get(start_url)\n",
    "    sleep(2 + 3*random.random())\n",
    "\n"
   ]
  },
  {
   "cell_type": "code",
   "execution_count": null,
   "metadata": {},
   "outputs": [],
   "source": []
  },
  {
   "cell_type": "code",
   "execution_count": 13,
   "metadata": {},
   "outputs": [],
   "source": [
    "df = pd.DataFrame"
   ]
  },
  {
   "cell_type": "code",
   "execution_count": null,
   "metadata": {},
   "outputs": [],
   "source": [
    "user_page"
   ]
  },
  {
   "cell_type": "code",
   "execution_count": 7,
   "metadata": {},
   "outputs": [
    {
     "data": {
      "text/plain": [
       "[<li class=\"rect slide1\" style=\"height: 214px;\"><img oncontextmenu=\"return false\" src=\"/api/v1/photo/get?image_id=20581191922519-1551608192-gj9c67o41f.jpg\"/></li>]"
      ]
     },
     "execution_count": 7,
     "metadata": {},
     "output_type": "execute_result"
    }
   ],
   "source": [
    "page= user_page[1].find_all('li',{'class':'rect slide1'})#[0]['href']\n",
    "page"
   ]
  },
  {
   "cell_type": "code",
   "execution_count": 8,
   "metadata": {},
   "outputs": [
    {
     "data": {
      "text/plain": [
       "'/api/v1/photo/get?image_id=20581191922475-1551600503-nb1g5fjcre.jpg'"
      ]
     },
     "execution_count": 8,
     "metadata": {},
     "output_type": "execute_result"
    }
   ],
   "source": [
    "page= user_page[2].find('li',{'class':'rect slide1'})#[0]['href']\n",
    "page.find('img')['src']"
   ]
  },
  {
   "cell_type": "code",
   "execution_count": 73,
   "metadata": {},
   "outputs": [],
   "source": [
    "for i in user_page:\n",
    "    userid = i.find('div',{'class':'Box01 profile'})['userid']\n",
    "    name= i.find('span',{'class':'font_lll font_red'}).text\n",
    "    age_area = i.find('ul',{'class':'situation'}).find('li').text\n",
    "    regist_date = i.find('ul',{'class':'statistics'}).find_all('li')[0].text\n",
    "    reported = i.find('ul',{'class':'statistics'}).find_all('li')[1].text\n",
    "    msg_cnt = i.find('ul',{'class':'statistics'}).find_all('li')[2].text.split(':')[1]\n",
    "    write_board = i.find('ul',{'class':'statistics'}).find_all('li')[3].text.split(':')[1]\n",
    "    profile = i.find('div',{'class':'BoxGray'}).text\n",
    "    height = i.find('div',{'class':'table03'}).find_all('dd')[0].text\n",
    "    weight = i.find('div',{'class':'table03'}).find_all('dd')[1].text\n",
    "    work = i.find('div',{'class':'table03'}).find_all('dd')[2].text\n",
    "    drink = i.find('div',{'class':'table03'}).find_all('dd')[3].text\n",
    "    tobacco = i.find.find_all('dd')[4].text\n",
    "    marrege = i.find('div',{'class':'table03'}).find_all('dd')[5].text\n",
    "    types = i.find('div',{'class':'table03'}).find_all('dd')[6].text\n",
    "\n",
    "    photos = i.find_all('img',{'class':'popup'})\n",
    "    img_list = []\n",
    "    for j in photos:\n",
    "        img_url = ('https://sugardaddy.jp' + j['src'])\n",
    "        img_list.append(img_url)\n",
    "    for i in range(3):\n",
    "        try:\n",
    "            print(img_list[i])\n",
    "            file_name = 'img/' + str(userid) + '_image_' + str(i) + '.jpeg'\n",
    "            print(file_name)\n",
    "            save_binary(img_list[i], file_name)\n",
    "        except:\n",
    "            None\n",
    "        sleep(1 + 2*random.random())"
   ]
  },
  {
   "cell_type": "code",
   "execution_count": 14,
   "metadata": {},
   "outputs": [],
   "source": [
    "user_info = pd.DataFrame(columns = ['userid','name','age_area','regist_date','reported',\n",
    "                                    'msg_cnt','write_board','profile','height','weight',\n",
    "                                   'work','drink','tobacco','marrege','types'])"
   ]
  },
  {
   "cell_type": "code",
   "execution_count": 15,
   "metadata": {},
   "outputs": [
    {
     "data": {
      "text/html": [
       "<div>\n",
       "<style scoped>\n",
       "    .dataframe tbody tr th:only-of-type {\n",
       "        vertical-align: middle;\n",
       "    }\n",
       "\n",
       "    .dataframe tbody tr th {\n",
       "        vertical-align: top;\n",
       "    }\n",
       "\n",
       "    .dataframe thead th {\n",
       "        text-align: right;\n",
       "    }\n",
       "</style>\n",
       "<table border=\"1\" class=\"dataframe\">\n",
       "  <thead>\n",
       "    <tr style=\"text-align: right;\">\n",
       "      <th></th>\n",
       "      <th>userid</th>\n",
       "      <th>name</th>\n",
       "      <th>age_area</th>\n",
       "      <th>regist_date</th>\n",
       "      <th>reported</th>\n",
       "      <th>msg_cnt</th>\n",
       "      <th>write_board</th>\n",
       "      <th>profile</th>\n",
       "      <th>height</th>\n",
       "      <th>weight</th>\n",
       "      <th>work</th>\n",
       "      <th>drink</th>\n",
       "      <th>tobacco</th>\n",
       "      <th>marrege</th>\n",
       "      <th>types</th>\n",
       "    </tr>\n",
       "  </thead>\n",
       "  <tbody>\n",
       "  </tbody>\n",
       "</table>\n",
       "</div>"
      ],
      "text/plain": [
       "Empty DataFrame\n",
       "Columns: [userid, name, age_area, regist_date, reported, msg_cnt, write_board, profile, height, weight, work, drink, tobacco, marrege, types]\n",
       "Index: []"
      ]
     },
     "execution_count": 15,
     "metadata": {},
     "output_type": "execute_result"
    }
   ],
   "source": [
    "user_info"
   ]
  },
  {
   "cell_type": "code",
   "execution_count": 86,
   "metadata": {},
   "outputs": [
    {
     "name": "stdout",
     "output_type": "stream",
     "text": [
      "https://sugardaddy.jp/api/v1/photo/get?image_id=20581191922418-1551589133-b0dgief719.jpg\n",
      "img/20581191922418_image_0.jpeg\n",
      "https://sugardaddy.jp/api/v1/photo/get?image_id=20581191922418-1551590383-6aegph4n1m.jpg\n",
      "img/20581191922418_image_1.jpeg\n"
     ]
    }
   ],
   "source": []
  },
  {
   "cell_type": "code",
   "execution_count": 61,
   "metadata": {},
   "outputs": [
    {
     "name": "stdout",
     "output_type": "stream",
     "text": [
      "0\n",
      "1\n",
      "2\n"
     ]
    }
   ],
   "source": [
    "for i in range(3):\n",
    "    print (i)"
   ]
  },
  {
   "cell_type": "code",
   "execution_count": 45,
   "metadata": {},
   "outputs": [
    {
     "data": {
      "text/plain": [
       "[<img class=\"popup\" oncontextmenu=\"return false\" src=\"/api/v1/photo/get?image_id=20581191922418-1551589133-b0dgief719.jpg\"/>,\n",
       " <img class=\"popup\" oncontextmenu=\"return false\" src=\"/api/v1/photo/get?image_id=20581191922418-1551590383-6aegph4n1m.jpg\"/>]"
      ]
     },
     "execution_count": 45,
     "metadata": {},
     "output_type": "execute_result"
    }
   ],
   "source": []
  },
  {
   "cell_type": "code",
   "execution_count": 67,
   "metadata": {},
   "outputs": [
    {
     "data": {
      "text/plain": [
       "'/api/v1/photo/get?image_id=20581191922418-1551590383-6aegph4n1m.jpg_1'"
      ]
     },
     "execution_count": 67,
     "metadata": {},
     "output_type": "execute_result"
    }
   ],
   "source": [
    "img_name"
   ]
  },
  {
   "cell_type": "code",
   "execution_count": 15,
   "metadata": {},
   "outputs": [
    {
     "data": {
      "text/plain": [
       "'/api/v1/photo/get?image_id=20581191922418-1551590383-6aegph4n1m.jpg'"
      ]
     },
     "execution_count": 15,
     "metadata": {},
     "output_type": "execute_result"
    }
   ],
   "source": [
    "photo"
   ]
  },
  {
   "cell_type": "code",
   "execution_count": 17,
   "metadata": {},
   "outputs": [],
   "source": [
    "#画像のJs コード\n",
    "def save_binary(url, filepath):\n",
    "    js = \"\"\"\n",
    "    var getBinaryResourceText = function(url) {\n",
    "        var req = new XMLHttpRequest();\n",
    "        req.open('GET', url, false);\n",
    "        req.overrideMimeType('text/plain; charset=x-user-defined');\n",
    "        req.send(null);\n",
    "        if (req.status != 200) return '';\n",
    "\n",
    "        var filestream = req.responseText;\n",
    "        var bytes = [];\n",
    "        for (var i = 0; i < filestream.length; i++){\n",
    "            bytes[i] = filestream.charCodeAt(i) & 0xff;\n",
    "        }\n",
    "\n",
    "        return bytes;\n",
    "    }\n",
    "    \"\"\"\n",
    "    js += \"return getBinaryResourceText(\\\"{url}\\\");\".format(url=url)\n",
    "\n",
    "    data_bytes = driver.execute_script(js)\n",
    "    with open(filepath, 'wb') as bin_out:\n",
    "        bin_out.write(bytes(data_bytes))\n",
    "\n",
    "\n",
    "capabilities = {\n",
    "    'chromeOptions': {\n",
    "        # 'androidPackage': 'com.android.chrome',\n",
    "    }\n",
    "}"
   ]
  },
  {
   "cell_type": "code",
   "execution_count": 20,
   "metadata": {},
   "outputs": [],
   "source": [
    "image_url = \"https://sugardaddy.jp/api/v1/photo/get?image_id=20581191922418-1551590383-6aegph4n1m.jpg\"\n"
   ]
  },
  {
   "cell_type": "code",
   "execution_count": 21,
   "metadata": {},
   "outputs": [],
   "source": [
    "save_binary(image_url, 'test.jpg')\n"
   ]
  },
  {
   "cell_type": "code",
   "execution_count": 2,
   "metadata": {},
   "outputs": [
    {
     "name": "stdout",
     "output_type": "stream",
     "text": [
      "#画像のJs コード\n",
      "def save_binary(url, filepath):\n",
      "    js = \"\"\"\n",
      "    var getBinaryResourceText = function(url) {\n",
      "        var req = new XMLHttpRequest();\n",
      "        req.open('GET', url, false);\n",
      "        req.overrideMimeType('text/plain; charset=x-user-defined');\n",
      "        req.send(null);\n",
      "        if (req.status != 200) return '';\n",
      "\n",
      "        var filestream = req.responseText;\n",
      "        var bytes = [];\n",
      "        for (var i = 0; i < filestream.length; i++){\n",
      "            bytes[i] = filestream.charCodeAt(i) & 0xff;\n",
      "        }\n",
      "\n",
      "        return bytes;\n",
      "    }\n",
      "    \"\"\"\n",
      "    js += \"return getBinaryResourceText(\\\"{url}\\\");\".format(url=url)\n",
      "\n",
      "    data_bytes = driver.execute_script(js)\n",
      "    with open(filepath, 'wb') as bin_out:\n",
      "        bin_out.write(bytes(data_bytes))\n",
      "\n",
      "\n",
      "capabilities = {\n",
      "    'chromeOptions': {\n",
      "        # 'androidPackage': 'com.android.chrome',\n",
      "    }\n",
      "}\n",
      "%history\n"
     ]
    }
   ],
   "source": [
    "%history"
   ]
  },
  {
   "cell_type": "code",
   "execution_count": null,
   "metadata": {},
   "outputs": [],
   "source": []
  }
 ],
 "metadata": {
  "kernelspec": {
   "display_name": "Python 3",
   "language": "python",
   "name": "python3"
  },
  "language_info": {
   "codemirror_mode": {
    "name": "ipython",
    "version": 3
   },
   "file_extension": ".py",
   "mimetype": "text/x-python",
   "name": "python",
   "nbconvert_exporter": "python",
   "pygments_lexer": "ipython3",
   "version": "3.7.1"
  }
 },
 "nbformat": 4,
 "nbformat_minor": 2
}
